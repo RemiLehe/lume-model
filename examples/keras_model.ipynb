{
 "cells": [
  {
   "cell_type": "markdown",
   "id": "235c92cd-cc05-42b8-a516-1185eeac5f0c",
   "metadata": {},
   "source": [
    "# Creating a KerasModel\n",
    "Base models built in Keras are already supported by LUME-model. We demonstrate how to create and execute a `KerasModel` below."
   ]
  },
  {
   "cell_type": "code",
   "execution_count": 1,
   "id": "56725817-2b21-4bea-98b0-151dea959f77",
   "metadata": {},
   "outputs": [],
   "source": [
    "import keras\n",
    "import numpy as np\n",
    "\n",
    "from lume_model.models import KerasModel\n",
    "from lume_model.variables import ScalarInputVariable, ScalarOutputVariable"
   ]
  },
  {
   "cell_type": "markdown",
   "id": "79c62b18-7dc1-44ca-b578-4dea5cc4a4b4",
   "metadata": {},
   "source": [
    "## Building a Model from Scratch\n",
    "Instantiation of a `KerasModel` requires specification of the base model (`keras.Model` with named inputs) and in-/output variables."
   ]
  },
  {
   "cell_type": "code",
   "execution_count": 2,
   "id": "f96d9863-269c-49d8-9671-cc73a783bcbc",
   "metadata": {},
   "outputs": [],
   "source": [
    "# exemplary model definition\n",
    "inputs = [keras.Input(name=\"input1\", shape=(1,)), keras.Input(name=\"input2\", shape=(1,))]\n",
    "outputs = keras.layers.Dense(1, activation=keras.activations.relu)(keras.layers.concatenate(inputs))\n",
    "base_model = keras.Model(inputs=inputs, outputs=outputs)\n",
    "\n",
    "# variable specification\n",
    "input_variables = [\n",
    "    ScalarInputVariable(name=inputs[0].name, default=0.1, value_range=[0.0, 1.0]),\n",
    "    ScalarInputVariable(name=inputs[1].name, default=0.2, value_range=[0.0, 1.0]),\n",
    "]\n",
    "output_variables = [\n",
    "    ScalarOutputVariable(name=\"output\"),\n",
    "]\n",
    "\n",
    "# creation of KerasModel\n",
    "example_model = KerasModel(\n",
    "    model=base_model,\n",
    "    input_variables=input_variables,\n",
    "    output_variables=output_variables,\n",
    ")"
   ]
  },
  {
   "cell_type": "markdown",
   "id": "d22e1cdd-0ea7-4a75-a2ed-47e6a77dac85",
   "metadata": {},
   "source": [
    "## Loading a Model from File\n",
    "An already created model can be saved to a YAML file by calling the `dump` method. The model can then be loaded by simply passing the file to the constructor."
   ]
  },
  {
   "cell_type": "code",
   "execution_count": 3,
   "id": "b32234ad-adcb-4431-940b-e5377cfa4e4a",
   "metadata": {},
   "outputs": [
    {
     "name": "stdout",
     "output_type": "stream",
     "text": [
      "model_class: KerasModel\n",
      "input_variables:\n",
      "  SepalLength:\n",
      "    variable_type: scalar\n",
      "    default: 4.3\n",
      "    is_constant: false\n",
      "    value_range: [4.3, 7.9]\n",
      "  SepalWidth:\n",
      "    variable_type: scalar\n",
      "    default: 2.0\n",
      "    is_constant: false\n",
      "    value_range: [2.0, 6.9]\n",
      "  PetalLength:\n",
      "    variable_type: scalar\n",
      "    default: 1.0\n",
      "    is_constant: false\n",
      "    value_range: [1.0, 6.9]\n",
      "  PetalWidth:\n",
      "    variable_type: scalar\n",
      "    default: 0.1\n",
      "    is_constant: false\n",
      "    value_range: [0.1, 2.5]\n",
      "output_variables:\n",
      "  Species: {variable_type: scalar}\n",
      "model: model.keras\n",
      "output_format: array\n",
      "output_transforms: [softmax]\n",
      "\n"
     ]
    }
   ],
   "source": [
    "keras_model = KerasModel(\"../tests/test_files/iris_classification/keras_model.yml\")\n",
    "print(keras_model.yaml())"
   ]
  },
  {
   "cell_type": "markdown",
   "id": "868fff4d-1f46-48e2-8bd0-c9d831df79e6",
   "metadata": {},
   "source": [
    "## Model Execution\n",
    "Calling the `evaluate` method allows for model execution on dictionary input."
   ]
  },
  {
   "cell_type": "code",
   "execution_count": 4,
   "id": "97946e64-062d-47d4-8d0c-d7e02a335a56",
   "metadata": {},
   "outputs": [
    {
     "data": {
      "text/plain": [
       "{'SepalLength': array([7.40696632]),\n",
       " 'SepalWidth': array([6.5843979]),\n",
       " 'PetalLength': array([1.06113014]),\n",
       " 'PetalWidth': array([1.31041352])}"
      ]
     },
     "execution_count": 4,
     "metadata": {},
     "output_type": "execute_result"
    }
   ],
   "source": [
    "# generate exemplary input\n",
    "input_dict = keras_model.random_input(n_samples=1)\n",
    "input_dict"
   ]
  },
  {
   "cell_type": "code",
   "execution_count": 5,
   "id": "50aae4be-0d6e-456f-83e8-3a84d6d78f84",
   "metadata": {},
   "outputs": [
    {
     "name": "stdout",
     "output_type": "stream",
     "text": [
      "1/1 [==============================] - 0s 45ms/step\n"
     ]
    },
    {
     "name": "stderr",
     "output_type": "stream",
     "text": [
      "2023-11-09 11:53:54.522723: W tensorflow/tsl/platform/profile_utils/cpu_utils.cc:128] Failed to get CPU frequency: 0 Hz\n"
     ]
    },
    {
     "data": {
      "text/plain": [
       "{'Species': array(0)}"
      ]
     },
     "execution_count": 5,
     "metadata": {},
     "output_type": "execute_result"
    }
   ],
   "source": [
    "# execute KerasModel\n",
    "keras_model.evaluate(input_dict)"
   ]
  },
  {
   "cell_type": "code",
   "execution_count": null,
   "id": "55d12bdc-ed38-401d-8bf8-bea92f4456bc",
   "metadata": {},
   "outputs": [],
   "source": []
  }
 ],
 "metadata": {
  "kernelspec": {
   "display_name": "Python [conda env:lume-model-dev]",
   "language": "python",
   "name": "conda-env-lume-model-dev-py"
  },
  "language_info": {
   "codemirror_mode": {
    "name": "ipython",
    "version": 3
   },
   "file_extension": ".py",
   "mimetype": "text/x-python",
   "name": "python",
   "nbconvert_exporter": "python",
   "pygments_lexer": "ipython3",
   "version": "3.9.18"
  }
 },
 "nbformat": 4,
 "nbformat_minor": 5
}
